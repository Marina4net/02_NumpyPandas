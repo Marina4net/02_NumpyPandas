{
 "cells": [
  {
   "cell_type": "markdown",
   "metadata": {},
   "source": [
    "# Задание 1\n",
    "Скачайте с сайта https://grouplens.org/datasets/movielens/ датасет любого размера. Определите какому фильму было выставлено больше всего оценок 5.0."
   ]
  },
  {
   "cell_type": "code",
   "execution_count": 6,
   "metadata": {},
   "outputs": [],
   "source": [
    "import pandas as pd"
   ]
  },
  {
   "cell_type": "code",
   "execution_count": 155,
   "metadata": {},
   "outputs": [
    {
     "name": "stdout",
     "output_type": "stream",
     "text": [
      "Shawshank Redemption, The (1994)\n"
     ]
    }
   ],
   "source": [
    "rating = pd.read_csv('ratings.csv')\n",
    "movies = pd.read_csv('movies.csv')\n",
    "\n",
    "rm = rating[rating.rating == 5.0]['movieId'].value_counts()\n",
    "m = rm.head(1).index[0] # id популярнейшего фильма\n",
    "\n",
    "search_movie = movies[movies.movieId == m]\n",
    "best = search_movie['title'].values[0] #о, это же побег из Шоушенка \n",
    "print(best)"
   ]
  },
  {
   "cell_type": "markdown",
   "metadata": {},
   "source": [
    "# Задание 2\n",
    "По данным файла power.csv посчитайте суммарное потребление стран Прибалтики (Латвия, Литва и Эстония) категорий 4, 12 и 21 за период с 2005 по 2010 года. Не учитывайте в расчетах отрицательные значения quantity."
   ]
  },
  {
   "cell_type": "code",
   "execution_count": 189,
   "metadata": {},
   "outputs": [
    {
     "name": "stdout",
     "output_type": "stream",
     "text": [
      "суммарное потребление Прибалтики - 408 чего-то\n"
     ]
    }
   ],
   "source": [
    "power = pd.read_csv('power.csv')\n",
    "\n",
    "countryes = ['Lithuania', 'Latvia', 'Estonia']\n",
    "cat = [4, 12, 21]\n",
    "\n",
    "power_filter01 = power[(power['country'] == countryes[0]) | (power['country'] == countryes[1]) | (power['country'] == countryes[2])]\n",
    "power_filter02 = power_filter01[(power_filter01['category'] == 4) |  (power_filter01['category'] == 12) | (power_filter01['category'] == 21)]\n",
    "power_filter = power_filter02[(power_filter02['year'] < 2011) & (power_filter02['year'] > 2004) & (power_filter02['quantity'] >= 0)]\n",
    "\n",
    "country_assump = power_filter['country'].value_counts()\n",
    "sum_assump = sum(country_assump)\n",
    "print(f'суммарное потребление Прибалтики - {sum_assump} чего-то')\n"
   ]
  },
  {
   "cell_type": "code",
   "execution_count": null,
   "metadata": {},
   "outputs": [],
   "source": []
  },
  {
   "cell_type": "markdown",
   "metadata": {},
   "source": [
    "# Задание 3\n",
    "Выберите страницу любого сайта с табличными данными. Импортируйте таблицы в pandas dataframe.\n",
    "\n",
    "Примеры страниц (необязательно брать именно эти): \n",
    "\n",
    "https://fortrader.org/quotes\n",
    "\n",
    "https://www.finanz.ru/valyuty/v-realnom-vremeni\n"
   ]
  },
  {
   "cell_type": "code",
   "execution_count": 187,
   "metadata": {},
   "outputs": [
    {
     "name": "stdout",
     "output_type": "stream",
     "text": [
      "                           Название    Цена  Изменение  Изменение(%)  \\\n",
      "0  Нефть (BRENT) Курс нефти сегодня  40.690     -0.710        -1.710   \n",
      "1   Нефть (WTI) Цены на нефть (WTI)  38.210     -0.780        -2.000   \n",
      "2          Сахар котировки на сахар  12.630     11.370       902.380   \n",
      "3                   Газ Цена на газ   1.495      0.054         3.747   \n",
      "\n",
      "   Обновлено  \n",
      "0        NaN  \n",
      "1        NaN  \n",
      "2        NaN  \n",
      "3        NaN  \n"
     ]
    }
   ],
   "source": [
    "pand_table = pd.read_html('https://fortrader.org/quotes')[1]\n",
    "print(pand_table)"
   ]
  },
  {
   "cell_type": "code",
   "execution_count": null,
   "metadata": {},
   "outputs": [],
   "source": []
  }
 ],
 "metadata": {
  "kernelspec": {
   "display_name": "Python 3",
   "language": "python",
   "name": "python3"
  },
  "language_info": {
   "codemirror_mode": {
    "name": "ipython",
    "version": 3
   },
   "file_extension": ".py",
   "mimetype": "text/x-python",
   "name": "python",
   "nbconvert_exporter": "python",
   "pygments_lexer": "ipython3",
   "version": "3.7.6"
  }
 },
 "nbformat": 4,
 "nbformat_minor": 4
}
